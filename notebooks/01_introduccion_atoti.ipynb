{
 "cells": [
  {
   "cell_type": "markdown",
   "metadata": {},
   "source": [
    "# Introducción a Atoti y MDX\n",
    "\n",
    "En este notebook aprenderemos los conceptos básicos de Atoti y MDX utilizando un esquema de base de datos universitario."
   ]
  },
  {
   "cell_type": "markdown",
   "metadata": {},
   "source": [
    "## 1. Instalación y configuración\n",
    "\n",
    "Primero, necesitamos importar las bibliotecas necesarias:"
   ]
  },
  {
   "cell_type": "code",
   "execution_count": 1,
   "metadata": {},
   "outputs": [
    {
     "name": "stdout",
     "output_type": "stream",
     "text": [
      "Welcome to Atoti 0.9.5!\n",
      "\n",
      "By using this community edition, you agree with the license available at https://docs.atoti.io/latest/eula.html.\n",
      "Browse the official documentation at https://docs.atoti.io.\n",
      "Join the community at https://www.atoti.io/register.\n",
      "\n",
      "Atoti collects telemetry data, which is used to help understand how to improve the product.\n",
      "If you don't wish to send usage data, you can request a trial license at https://www.atoti.io/evaluation-license-request.\n",
      "\n",
      "You can hide this message by setting the `ATOTI_HIDE_EULA_MESSAGE` environment variable to True.\n"
     ]
    }
   ],
   "source": [
    "import atoti as tt\n",
    "import pandas as pd\n",
    "import numpy as np"
   ]
  },
  {
   "cell_type": "markdown",
   "metadata": {},
   "source": [
    "## 2. Iniciar una sesión de atoti\n",
    "\n",
    "Atoti funciona con sesiones. Una sesión es un entorno donde podemos crear y manipular cubos multidimensionales:"
   ]
  },
  {
   "cell_type": "code",
   "execution_count": 2,
   "metadata": {},
   "outputs": [],
   "source": [
    "session = tt.Session.start()"
   ]
  },
  {
   "cell_type": "markdown",
   "metadata": {},
   "source": [
    "## 3. Cargar datos de ejemplo\n",
    "\n",
    "Para este tutorial, vamos a crear algunos datos de ejemplo basados en nuestro esquema universitario. Crearemos una tabla simple de matrículas:"
   ]
  },
  {
   "cell_type": "code",
   "execution_count": 3,
   "metadata": {},
   "outputs": [
    {
     "data": {
      "text/html": [
       "<div>\n",
       "<style scoped>\n",
       "    .dataframe tbody tr th:only-of-type {\n",
       "        vertical-align: middle;\n",
       "    }\n",
       "\n",
       "    .dataframe tbody tr th {\n",
       "        vertical-align: top;\n",
       "    }\n",
       "\n",
       "    .dataframe thead th {\n",
       "        text-align: right;\n",
       "    }\n",
       "</style>\n",
       "<table border=\"1\" class=\"dataframe\">\n",
       "  <thead>\n",
       "    <tr style=\"text-align: right;\">\n",
       "      <th></th>\n",
       "      <th>CursoAcademico</th>\n",
       "      <th>Centro</th>\n",
       "      <th>PlanEstudio</th>\n",
       "      <th>NumeroMatriculados</th>\n",
       "    </tr>\n",
       "  </thead>\n",
       "  <tbody>\n",
       "    <tr>\n",
       "      <th>0</th>\n",
       "      <td>2023/2024</td>\n",
       "      <td>Facultad de Ciencias</td>\n",
       "      <td>Grado en Informática</td>\n",
       "      <td>120</td>\n",
       "    </tr>\n",
       "    <tr>\n",
       "      <th>1</th>\n",
       "      <td>2023/2024</td>\n",
       "      <td>Facultad de Letras</td>\n",
       "      <td>Grado en Historia</td>\n",
       "      <td>85</td>\n",
       "    </tr>\n",
       "    <tr>\n",
       "      <th>2</th>\n",
       "      <td>2023/2024</td>\n",
       "      <td>Facultad de Ciencias</td>\n",
       "      <td>Grado en Matemáticas</td>\n",
       "      <td>95</td>\n",
       "    </tr>\n",
       "    <tr>\n",
       "      <th>3</th>\n",
       "      <td>2022/2023</td>\n",
       "      <td>Facultad de Letras</td>\n",
       "      <td>Grado en Historia</td>\n",
       "      <td>80</td>\n",
       "    </tr>\n",
       "    <tr>\n",
       "      <th>4</th>\n",
       "      <td>2022/2023</td>\n",
       "      <td>Facultad de Ciencias</td>\n",
       "      <td>Grado en Informática</td>\n",
       "      <td>110</td>\n",
       "    </tr>\n",
       "  </tbody>\n",
       "</table>\n",
       "</div>"
      ],
      "text/plain": [
       "  CursoAcademico                Centro           PlanEstudio  \\\n",
       "0      2023/2024  Facultad de Ciencias  Grado en Informática   \n",
       "1      2023/2024    Facultad de Letras     Grado en Historia   \n",
       "2      2023/2024  Facultad de Ciencias  Grado en Matemáticas   \n",
       "3      2022/2023    Facultad de Letras     Grado en Historia   \n",
       "4      2022/2023  Facultad de Ciencias  Grado en Informática   \n",
       "\n",
       "   NumeroMatriculados  \n",
       "0                 120  \n",
       "1                  85  \n",
       "2                  95  \n",
       "3                  80  \n",
       "4                 110  "
      ]
     },
     "execution_count": 3,
     "metadata": {},
     "output_type": "execute_result"
    }
   ],
   "source": [
    "# Crear datos de ejemplo\n",
    "data = {\n",
    "    'CursoAcademico': ['2023/2024', '2023/2024', '2023/2024', '2022/2023', '2022/2023'],\n",
    "    'Centro': ['Facultad de Ciencias', 'Facultad de Letras', 'Facultad de Ciencias', 'Facultad de Letras', 'Facultad de Ciencias'],\n",
    "    'PlanEstudio': ['Grado en Informática', 'Grado en Historia', 'Grado en Matemáticas', 'Grado en Historia', 'Grado en Informática'],\n",
    "    'NumeroMatriculados': [120, 85, 95, 80, 110]\n",
    "}\n",
    "\n",
    "df = pd.DataFrame(data)\n",
    "df"
   ]
  },
  {
   "cell_type": "markdown",
   "metadata": {},
   "source": [
    "## 4. Crear una tabla en Atoti\n",
    "\n",
    "Ahora vamos a cargar estos datos en una tabla de Atoti:"
   ]
  },
  {
   "cell_type": "code",
   "execution_count": 4,
   "metadata": {},
   "outputs": [],
   "source": [
    "matriculas_table = session.read_pandas(\n",
    "    df,\n",
    "    table_name=\"Matriculas\",\n",
    "    keys=[\"CursoAcademico\", \"Centro\", \"PlanEstudio\"]\n",
    ")"
   ]
  },
  {
   "cell_type": "markdown",
   "metadata": {},
   "source": [
    "## 5. Crear un cubo\n",
    "\n",
    "Un cubo es una estructura multidimensional que nos permite analizar los datos desde diferentes perspectivas:"
   ]
  },
  {
   "cell_type": "code",
   "execution_count": 5,
   "metadata": {},
   "outputs": [
    {
     "data": {
      "application/json": {
       "Dimensions": {
        "Matriculas": {
         "Centro": [
          "Centro"
         ],
         "CursoAcademico": [
          "CursoAcademico"
         ],
         "PlanEstudio": [
          "PlanEstudio"
         ]
        }
       },
       "Measures": {
        "NumeroMatriculados.MEAN": {
         "formatter": "DOUBLE[#,###.00]"
        },
        "NumeroMatriculados.SUM": {
         "formatter": "INT[#,###]"
        },
        "contributors.COUNT": {
         "formatter": "INT[#,###]"
        }
       }
      },
      "text/html": [
       "<ul>\n",
       "<li>Matriculas\n",
       "  <ul>\n",
       "  <li>Dimensions\n",
       "    <ul>\n",
       "    <li>Matriculas\n",
       "      <ul>\n",
       "      <li>Centro\n",
       "        <ol>\n",
       "        <li>Centro</li>\n",
       "        </ol>      </li>\n",
       "      <li>CursoAcademico\n",
       "        <ol>\n",
       "        <li>CursoAcademico</li>\n",
       "        </ol>      </li>\n",
       "      <li>PlanEstudio\n",
       "        <ol>\n",
       "        <li>PlanEstudio</li>\n",
       "        </ol>      </li>\n",
       "      </ul>\n",
       "    </li>\n",
       "    </ul>\n",
       "  </li>\n",
       "  <li>Measures\n",
       "    <ul>\n",
       "    <li>NumeroMatriculados.MEAN\n",
       "      <ul>\n",
       "      <li>formatter: DOUBLE[#,###.00]</li>\n",
       "      </ul>\n",
       "    </li>\n",
       "    <li>NumeroMatriculados.SUM\n",
       "      <ul>\n",
       "      <li>formatter: INT[#,###]</li>\n",
       "      </ul>\n",
       "    </li>\n",
       "    <li>contributors.COUNT\n",
       "      <ul>\n",
       "      <li>formatter: INT[#,###]</li>\n",
       "      </ul>\n",
       "    </li>\n",
       "    </ul>\n",
       "  </li>\n",
       "  </ul>\n",
       "</li>\n",
       "</ul>\n"
      ],
      "text/plain": [
       "<atoti.cube.Cube at 0x18342a5bf20>"
      ]
     },
     "execution_count": 5,
     "metadata": {
      "application/json": {
       "expanded": false,
       "root": "Matriculas"
      }
     },
     "output_type": "execute_result"
    }
   ],
   "source": [
    "cube = session.create_cube(matriculas_table)\n",
    "cube"
   ]
  },
  {
   "cell_type": "markdown",
   "metadata": {},
   "source": [
    "## 6. Explorar el cubo\n",
    "\n",
    "Podemos ver las jerarquías y medidas disponibles en nuestro cubo:"
   ]
  },
  {
   "cell_type": "code",
   "execution_count": 6,
   "metadata": {},
   "outputs": [
    {
     "name": "stdout",
     "output_type": "stream",
     "text": [
      "Jerarquías:\n",
      "{('Matriculas', 'Centro'): <atoti.hierarchy.Hierarchy object at 0x0000018342A714F0>, ('Matriculas', 'PlanEstudio'): <atoti.hierarchy.Hierarchy object at 0x0000018342A73A70>, ('Matriculas', 'CursoAcademico'): <atoti.hierarchy.Hierarchy object at 0x0000018342A72A80>}\n",
      "\n",
      "Medidas:\n",
      "{'NumeroMatriculados.SUM': <atoti.measure.Measure object at 0x0000018342A72D50>, 'contributors.COUNT': <atoti.measure.Measure object at 0x0000018342A72C30>, 'NumeroMatriculados.MEAN': <atoti.measure.Measure object at 0x0000018342A72F00>, 'update.TIMESTAMP': <atoti.measure.Measure object at 0x0000018342A72E70>}\n"
     ]
    }
   ],
   "source": [
    "print(\"Jerarquías:\")\n",
    "print(cube.hierarchies)\n",
    "print(\"\\nMedidas:\")\n",
    "print(cube.measures)"
   ]
  },
  {
   "cell_type": "markdown",
   "metadata": {},
   "source": [
    "## 7. Realizar una consulta simple\n",
    "\n",
    "Vamos a hacer una consulta simple para ver el número total de matriculados por centro:"
   ]
  },
  {
   "cell_type": "code",
   "execution_count": 7,
   "metadata": {},
   "outputs": [
    {
     "data": {
      "application/vnd.atoti.convert-mdx-query-result-to-widget.v0+json": {
       "mdx": "SELECT {[Measures].[NumeroMatriculados.SUM]} ON COLUMNS, NON EMPTY Hierarchize(Descendants({[Matriculas].[Centro].[ALL].[AllMember]}, 1, SELF_AND_BEFORE)) ON ROWS FROM [Matriculas]",
       "sessionId": "1746634559_036152",
       "widgetCreationCode": "session.widget"
      },
      "text/html": [
       "<div>\n",
       "<style scoped>\n",
       "    .dataframe tbody tr th:only-of-type {\n",
       "        vertical-align: middle;\n",
       "    }\n",
       "\n",
       "    .dataframe tbody tr th {\n",
       "        vertical-align: top;\n",
       "    }\n",
       "\n",
       "    .dataframe thead th {\n",
       "        text-align: right;\n",
       "    }\n",
       "</style>\n",
       "<table border=\"1\" class=\"dataframe\">\n",
       "  <thead>\n",
       "    <tr style=\"text-align: right;\">\n",
       "      <th></th>\n",
       "      <th>NumeroMatriculados.SUM</th>\n",
       "    </tr>\n",
       "    <tr>\n",
       "      <th>Centro</th>\n",
       "      <th></th>\n",
       "    </tr>\n",
       "  </thead>\n",
       "  <tbody>\n",
       "    <tr>\n",
       "      <th>Facultad de Ciencias</th>\n",
       "      <td>325</td>\n",
       "    </tr>\n",
       "    <tr>\n",
       "      <th>Facultad de Letras</th>\n",
       "      <td>165</td>\n",
       "    </tr>\n",
       "  </tbody>\n",
       "</table>\n",
       "</div>"
      ],
      "text/plain": [
       "                     NumeroMatriculados.SUM\n",
       "Centro                                     \n",
       "Facultad de Ciencias                    325\n",
       "Facultad de Letras                      165"
      ]
     },
     "execution_count": 7,
     "metadata": {},
     "output_type": "execute_result"
    }
   ],
   "source": [
    "\n",
    "cube.query(\n",
    "    cube.measures[\"NumeroMatriculados.SUM\"],\n",
    "    levels=[cube.hierarchies[\"Centro\"][\"Centro\"]]  # Especificamos el nivel dentro de la jerarquía\n",
    ")"
   ]
  },
  {
   "cell_type": "markdown",
   "metadata": {},
   "source": [
    "## 8. Crear un widget interactivo\n",
    "\n",
    "Atoti nos permite crear widgets interactivos para explorar los datos:"
   ]
  },
  {
   "cell_type": "code",
   "execution_count": null,
   "metadata": {},
   "outputs": [
    {
     "data": {
      "application/vnd.atoti.widget.v0+json": {
       "sessionId": "1746634279_684544",
       "sessionUrl": "http://localhost:52853",
       "widgetCreationCode": "session.widget"
      },
      "text/plain": [
       "Open the notebook in JupyterLab with the Atoti JupyterLab extension enabled to build this widget."
      ]
     },
     "metadata": {},
     "output_type": "display_data"
    }
   ],
   "source": [
    "session.widget"
   ]
  },
  {
   "cell_type": "markdown",
   "metadata": {},
   "source": [
    "## Ejercicios prácticos\n",
    "\n",
    "1. Modifica la consulta anterior para ver el número de matriculados por plan de estudios\n",
    "2. Crea una consulta que muestre el número de matriculados por curso académico y centro\n",
    "3. Experimenta con el widget interactivo para crear diferentes visualizaciones"
   ]
  }
 ],
 "metadata": {
  "kernelspec": {
   "display_name": ".venv",
   "language": "python",
   "name": "python3"
  },
  "language_info": {
   "codemirror_mode": {
    "name": "ipython",
    "version": 3
   },
   "file_extension": ".py",
   "mimetype": "text/x-python",
   "name": "python",
   "nbconvert_exporter": "python",
   "pygments_lexer": "ipython3",
   "version": "3.12.6"
  }
 },
 "nbformat": 4,
 "nbformat_minor": 4
}
