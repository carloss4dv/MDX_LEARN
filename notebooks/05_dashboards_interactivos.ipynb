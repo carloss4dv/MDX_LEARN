{
 "cells": [
  {
   "cell_type": "markdown",
   "metadata": {},
   "source": [
    "# Dashboards interactivos con Atoti\n",
    "\n",
    "En este notebook aprenderemos a crear dashboards interactivos utilizando Atoti y nuestro esquema universitario."
   ]
  },
  {
   "cell_type": "markdown",
   "metadata": {},
   "source": [
    "## 1. Configuración inicial\n",
    "\n",
    "Importamos las bibliotecas necesarias e iniciamos una sesión:"
   ]
  },
  {
   "cell_type": "code",
   "execution_count": null,
   "metadata": {},
   "outputs": [],
   "source": [
    "import atoti as tt\n",
    "import pandas as pd\n",
    "import numpy as np\n",
    "\n",
    "session = tt.Session.start()"
   ]
  },
  {
   "cell_type": "markdown",
   "metadata": {},
   "source": [
    "## 2. Crear datos de ejemplo complejos\n",
    "\n",
    "Vamos a crear un conjunto de datos más complejo que incluya información sobre matrículas, rendimiento, docencia y movilidad:"
   ]
  },
  {
   "cell_type": "code",
   "execution_count": null,
   "metadata": {},
   "outputs": [],
   "source": [
    "# Datos de matrículas y rendimiento\n",
    "data = {\n",
    "    'CursoAcademico': ['2023/2024'] * 36 + ['2022/2023'] * 36,\n",
    "    'Centro': ['Facultad de Ciencias'] * 18 + ['Facultad de Letras'] * 18 + ['Facultad de Ciencias'] * 18 + ['Facultad de Letras'] * 18,\n",
    "    'PlanEstudio': ['Grado en Informática', 'Grado en Matemáticas', 'Grado en Física'] * 6 + ['Grado en Historia', 'Grado en Filología', 'Grado en Filosofía'] * 6,\n",
    "    'Asignatura': ['Programación', 'Cálculo', 'Física I', 'Historia Antigua', 'Literatura', 'Ética'] * 12,\n",
    "    'Semestre': ['Primero', 'Segundo'] * 36,\n",
    "    'NumeroMatriculados': [45, 40, 35, 30, 25, 20] * 12,\n",
    "    'CreditosAsignatura': [6, 6, 6, 6, 6, 6] * 12,\n",
    "    'NotaMedia': [7.5, 7.2, 7.0, 8.0, 7.8, 7.5] * 12,\n",
    "    'TasaAprobados': [0.85, 0.82, 0.80, 0.90, 0.88, 0.85] * 12,\n",
    "    'HorasDocencia': [60, 60, 60, 60, 60, 60] * 12,\n",
    "    'NumeroProfesores': [2, 2, 2, 2, 2, 2] * 12,\n",
    "    'EstudiantesMovilidad': [5, 4, 3, 2, 1, 1] * 12,\n",
    "    'ProfesoresMovilidad': [1, 1, 1, 0, 0, 0] * 12\n",
    "}\n",
    "\n",
    "df = pd.DataFrame(data)\n",
    "df"
   ]
  },
  {
   "cell_type": "markdown",
   "metadata": {},
   "source": [
    "## 3. Crear tabla y cubo\n",
    "\n",
    "Cargamos los datos en una tabla de Atoti y creamos un cubo:"
   ]
  },
  {
   "cell_type": "code",
   "execution_count": null,
   "metadata": {},
   "outputs": [],
   "source": [
    "# Crear tabla\n",
    "academico_table = session.read_pandas(\n",
    "    df,\n",
    "    table_name=\"Academico\",\n",
    "    keys=[\"CursoAcademico\", \"Centro\", \"PlanEstudio\", \"Asignatura\", \"Semestre\"]\n",
    ")\n",
    "\n",
    "# Crear cubo\n",
    "cube = session.create_cube(academico_table)"
   ]
  },
  {
   "cell_type": "markdown",
   "metadata": {},
   "source": [
    "## 4. Crear medidas calculadas para el dashboard\n",
    "\n",
    "Vamos a crear algunas medidas calculadas útiles para nuestro dashboard:"
   ]
  },
  {
   "cell_type": "code",
   "execution_count": null,
   "metadata": {},
   "outputs": [],
   "source": [
    "# Medida para la eficiencia docente\n",
    "cube.measures[\"Eficiencia Docente\"] = tt.agg.mean(\n",
    "    cube.measures[\"NotaMedia.MEAN\"] / (cube.measures[\"HorasDocencia.SUM\"] / cube.measures[\"NumeroMatriculados.SUM\"])\n",
    ")\n",
    "\n",
    "# Medida para la carga docente por profesor\n",
    "cube.measures[\"Carga Docente por Profesor\"] = tt.agg.sum(\n",
    "    cube.measures[\"HorasDocencia.SUM\"] / cube.measures[\"NumeroProfesores.SUM\"]\n",
    ")\n",
    "\n",
    "# Medida para la tasa de éxito ponderada\n",
    "cube.measures[\"Tasa Exito Ponderada\"] = tt.agg.mean(\n",
    "    cube.measures[\"TasaAprobados.MEAN\"] * cube.measures[\"NotaMedia.MEAN\"] / 10\n",
    ")\n",
    "\n",
    "# Medida para la internacionalización\n",
    "cube.measures[\"Indice Internacionalizacion\"] = tt.agg.mean(\n",
    "    (cube.measures[\"EstudiantesMovilidad.SUM\"] + cube.measures[\"ProfesoresMovilidad.SUM\"]) / \n",
    "    (cube.measures[\"NumeroMatriculados.SUM\"] + cube.measures[\"NumeroProfesores.SUM\"])\n",
    ")"
   ]
  },
  {
   "cell_type": "markdown",
   "metadata": {},
   "source": [
    "## 5. Crear dashboard interactivo\n",
    "\n",
    "Vamos a crear un dashboard interactivo que muestre diferentes aspectos de los datos:"
   ]
  },
  {
   "cell_type": "code",
   "execution_count": null,
   "metadata": {},
   "outputs": [],
   "source": [
    "# Crear widget interactivo\n",
    "widget = session.widget\n",
    "widget"
   ]
  },
  {
   "cell_type": "markdown",
   "metadata": {},
   "source": [
    "## 6. Crear visualizaciones específicas\n",
    "\n",
    "Vamos a crear algunas visualizaciones específicas para nuestro dashboard:"
   ]
  },
  {
   "cell_type": "code",
   "execution_count": null,
   "metadata": {},
   "outputs": [],
   "source": [
    "# 1. Gráfico de rendimiento por centro\n",
    "cube.query(\n",
    "    [cube.measures[\"Tasa Exito Ponderada\"], cube.measures[\"Eficiencia Docente\"]],\n",
    "    levels=[cube.hierarchies[\"Centro\"]],\n",
    "    filter=cube.hierarchies[\"CursoAcademico\"] == \"2023/2024\"\n",
    ")"
   ]
  },
  {
   "cell_type": "code",
   "execution_count": null,
   "metadata": {},
   "outputs": [],
   "source": [
    "# 2. Análisis de movilidad\n",
    "cube.query(\n",
    "    [cube.measures[\"Indice Internacionalizacion\"], cube.measures[\"EstudiantesMovilidad.SUM\"]],\n",
    "    levels=[cube.hierarchies[\"Centro\"], cube.hierarchies[\"PlanEstudio\"]],\n",
    "    filter=cube.hierarchies[\"CursoAcademico\"] == \"2023/2024\"\n",
    ")"
   ]
  },
  {
   "cell_type": "code",
   "execution_count": null,
   "metadata": {},
   "outputs": [],
   "source": [
    "# 3. Análisis de carga docente\n",
    "cube.query(\n",
    "    [cube.measures[\"Carga Docente por Profesor\"], cube.measures[\"NumeroProfesores.SUM\"]],\n",
    "    levels=[cube.hierarchies[\"Centro\"], cube.hierarchies[\"PlanEstudio\"]],\n",
    "    filter=cube.hierarchies[\"CursoAcademico\"] == \"2023/2024\"\n",
    ")"
   ]
  },
  {
   "cell_type": "markdown",
   "metadata": {},
   "source": [
    "## 7. Crear dashboard personalizado\n",
    "\n",
    "Vamos a crear un dashboard personalizado con múltiples visualizaciones:"
   ]
  },
  {
   "cell_type": "code",
   "execution_count": null,
   "metadata": {},
   "outputs": [],
   "source": [
    "# Crear dashboard personalizado\n",
    "dashboard = session.dashboards.create(\n",
    "    \"Dashboard Academico\",\n",
    "    \"Dashboard para análisis académico\"\n",
    ")\n",
    "\n",
    "# Añadir visualizaciones al dashboard\n",
    "dashboard.add_chart(\n",
    "    \"Rendimiento por Centro\",\n",
    "    cube.query(\n",
    "        [cube.measures[\"Tasa Exito Ponderada\"], cube.measures[\"Eficiencia Docente\"]],\n",
    "        levels=[cube.hierarchies[\"Centro\"]],\n",
    "        filter=cube.hierarchies[\"CursoAcademico\"] == \"2023/2024\"\n",
    "    )\n",
    ")\n",
    "\n",
    "dashboard.add_chart(\n",
    "    \"Análisis de Movilidad\",\n",
    "    cube.query(\n",
    "        [cube.measures[\"Indice Internacionalizacion\"], cube.measures[\"EstudiantesMovilidad.SUM\"]],\n",
    "        levels=[cube.hierarchies[\"Centro\"], cube.hierarchies[\"PlanEstudio\"]],\n",
    "        filter=cube.hierarchies[\"CursoAcademico\"] == \"2023/2024\"\n",
    "    )\n",
    ")\n",
    "\n",
    "dashboard.add_chart(\n",
    "    \"Carga Docente\",\n",
    "    cube.query(\n",
    "        [cube.measures[\"Carga Docente por Profesor\"], cube.measures[\"NumeroProfesores.SUM\"]],\n",
    "        levels=[cube.hierarchies[\"Centro\"], cube.hierarchies[\"PlanEstudio\"]],\n",
    "        filter=cube.hierarchies[\"CursoAcademico\"] == \"2023/2024\"\n",
    "    )\n",
    ")\n",
    "\n",
    "# Mostrar dashboard\n",
    "dashboard"
   ]
  },
  {
   "cell_type": "markdown",
   "metadata": {},
   "source": [
    "## Ejercicios Prácticos\n",
    "\n",
    "1. Crea un dashboard que muestre la evolución temporal de los indicadores clave\n",
    "2. Implementa un dashboard que compare el rendimiento entre diferentes planes de estudio\n",
    "3. Crea un dashboard que analice la relación entre movilidad y rendimiento académico\n",
    "4. Implementa un dashboard que muestre la eficiencia docente por asignatura"
   ]
  }
 ],
 "metadata": {
  "kernelspec": {
   "display_name": "Python 3",
   "language": "python",
   "name": "python3"
  },
  "language_info": {
   "codemirror_mode": {
    "name": "ipython",
    "version": 3
   },
   "file_extension": ".py",
   "mimetype": "text/x-python",
   "name": "python",
   "nbconvert_exporter": "python",
   "pygments_lexer": "ipython3",
   "version": "3.8.0"
  }
 },
 "nbformat": 4,
 "nbformat_minor": 4
}
