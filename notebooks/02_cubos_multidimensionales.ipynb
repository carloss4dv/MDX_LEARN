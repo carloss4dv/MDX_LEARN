{
 "cells": [
  {
   "cell_type": "markdown",
   "metadata": {},
   "source": [
    "# Cubos Multidimensionales en Atoti\n",
    "\n",
    "En este notebook profundizaremos en el concepto de cubos multidimensionales y cómo crearlos y manipularlos en Atoti."
   ]
  },
  {
   "cell_type": "markdown",
   "metadata": {},
   "source": [
    "## 1. Configuración Inicial\n",
    "\n",
    "Importamos las bibliotecas necesarias e iniciamos una sesión:"
   ]
  },
  {
   "cell_type": "code",
   "execution_count": null,
   "metadata": {},
   "outputs": [],
   "source": [
    "import atoti as tt\n",
    "import pandas as pd\n",
    "import numpy as np\n",
    "\n",
    "session = tt.Session.start()"
   ]
  },
  {
   "cell_type": "markdown",
   "metadata": {},
   "source": [
    "## 2. Crear Datos de Ejemplo más Complejos\n",
    "\n",
    "Vamos a crear un conjunto de datos más complejo que incluya información sobre matrículas, rendimiento y docencia:"
   ]
  },
  {
   "cell_type": "code",
   "execution_count": 6,
   "metadata": {},
   "outputs": [
    {
     "name": "stdout",
     "output_type": "stream",
     "text": [
      "Datos de Matrículas:\n"
     ]
    },
    {
     "data": {
      "text/html": [
       "<div>\n",
       "<style scoped>\n",
       "    .dataframe tbody tr th:only-of-type {\n",
       "        vertical-align: middle;\n",
       "    }\n",
       "\n",
       "    .dataframe tbody tr th {\n",
       "        vertical-align: top;\n",
       "    }\n",
       "\n",
       "    .dataframe thead th {\n",
       "        text-align: right;\n",
       "    }\n",
       "</style>\n",
       "<table border=\"1\" class=\"dataframe\">\n",
       "  <thead>\n",
       "    <tr style=\"text-align: right;\">\n",
       "      <th></th>\n",
       "      <th>CursoAcademico</th>\n",
       "      <th>Centro</th>\n",
       "      <th>PlanEstudio</th>\n",
       "      <th>NumeroMatriculados</th>\n",
       "      <th>CreditosMatriculados</th>\n",
       "    </tr>\n",
       "  </thead>\n",
       "  <tbody>\n",
       "    <tr>\n",
       "      <th>0</th>\n",
       "      <td>2023/2024</td>\n",
       "      <td>Facultad de Ciencias</td>\n",
       "      <td>Grado en Informática</td>\n",
       "      <td>120</td>\n",
       "      <td>7200</td>\n",
       "    </tr>\n",
       "    <tr>\n",
       "      <th>1</th>\n",
       "      <td>2023/2024</td>\n",
       "      <td>Facultad de Ciencias</td>\n",
       "      <td>Grado en Matemáticas</td>\n",
       "      <td>95</td>\n",
       "      <td>5700</td>\n",
       "    </tr>\n",
       "    <tr>\n",
       "      <th>2</th>\n",
       "      <td>2023/2024</td>\n",
       "      <td>Facultad de Ciencias</td>\n",
       "      <td>Grado en Física</td>\n",
       "      <td>85</td>\n",
       "      <td>5100</td>\n",
       "    </tr>\n",
       "    <tr>\n",
       "      <th>3</th>\n",
       "      <td>2023/2024</td>\n",
       "      <td>Facultad de Letras</td>\n",
       "      <td>Grado en Informática</td>\n",
       "      <td>80</td>\n",
       "      <td>4800</td>\n",
       "    </tr>\n",
       "    <tr>\n",
       "      <th>4</th>\n",
       "      <td>2023/2024</td>\n",
       "      <td>Facultad de Letras</td>\n",
       "      <td>Grado en Matemáticas</td>\n",
       "      <td>75</td>\n",
       "      <td>4500</td>\n",
       "    </tr>\n",
       "    <tr>\n",
       "      <th>5</th>\n",
       "      <td>2023/2024</td>\n",
       "      <td>Facultad de Letras</td>\n",
       "      <td>Grado en Física</td>\n",
       "      <td>70</td>\n",
       "      <td>4200</td>\n",
       "    </tr>\n",
       "    <tr>\n",
       "      <th>6</th>\n",
       "      <td>2022/2023</td>\n",
       "      <td>Facultad de Ciencias</td>\n",
       "      <td>Grado en Historia</td>\n",
       "      <td>110</td>\n",
       "      <td>6600</td>\n",
       "    </tr>\n",
       "    <tr>\n",
       "      <th>7</th>\n",
       "      <td>2022/2023</td>\n",
       "      <td>Facultad de Ciencias</td>\n",
       "      <td>Grado en Filología</td>\n",
       "      <td>90</td>\n",
       "      <td>5400</td>\n",
       "    </tr>\n",
       "    <tr>\n",
       "      <th>8</th>\n",
       "      <td>2022/2023</td>\n",
       "      <td>Facultad de Ciencias</td>\n",
       "      <td>Grado en Filosofía</td>\n",
       "      <td>80</td>\n",
       "      <td>4800</td>\n",
       "    </tr>\n",
       "    <tr>\n",
       "      <th>9</th>\n",
       "      <td>2022/2023</td>\n",
       "      <td>Facultad de Letras</td>\n",
       "      <td>Grado en Historia</td>\n",
       "      <td>75</td>\n",
       "      <td>4500</td>\n",
       "    </tr>\n",
       "    <tr>\n",
       "      <th>10</th>\n",
       "      <td>2022/2023</td>\n",
       "      <td>Facultad de Letras</td>\n",
       "      <td>Grado en Filología</td>\n",
       "      <td>70</td>\n",
       "      <td>4200</td>\n",
       "    </tr>\n",
       "    <tr>\n",
       "      <th>11</th>\n",
       "      <td>2022/2023</td>\n",
       "      <td>Facultad de Letras</td>\n",
       "      <td>Grado en Filosofía</td>\n",
       "      <td>65</td>\n",
       "      <td>3900</td>\n",
       "    </tr>\n",
       "  </tbody>\n",
       "</table>\n",
       "</div>"
      ],
      "text/plain": [
       "   CursoAcademico                Centro           PlanEstudio  \\\n",
       "0       2023/2024  Facultad de Ciencias  Grado en Informática   \n",
       "1       2023/2024  Facultad de Ciencias  Grado en Matemáticas   \n",
       "2       2023/2024  Facultad de Ciencias       Grado en Física   \n",
       "3       2023/2024    Facultad de Letras  Grado en Informática   \n",
       "4       2023/2024    Facultad de Letras  Grado en Matemáticas   \n",
       "5       2023/2024    Facultad de Letras       Grado en Física   \n",
       "6       2022/2023  Facultad de Ciencias     Grado en Historia   \n",
       "7       2022/2023  Facultad de Ciencias    Grado en Filología   \n",
       "8       2022/2023  Facultad de Ciencias    Grado en Filosofía   \n",
       "9       2022/2023    Facultad de Letras     Grado en Historia   \n",
       "10      2022/2023    Facultad de Letras    Grado en Filología   \n",
       "11      2022/2023    Facultad de Letras    Grado en Filosofía   \n",
       "\n",
       "    NumeroMatriculados  CreditosMatriculados  \n",
       "0                  120                  7200  \n",
       "1                   95                  5700  \n",
       "2                   85                  5100  \n",
       "3                   80                  4800  \n",
       "4                   75                  4500  \n",
       "5                   70                  4200  \n",
       "6                  110                  6600  \n",
       "7                   90                  5400  \n",
       "8                   80                  4800  \n",
       "9                   75                  4500  \n",
       "10                  70                  4200  \n",
       "11                  65                  3900  "
      ]
     },
     "metadata": {},
     "output_type": "display_data"
    },
    {
     "name": "stdout",
     "output_type": "stream",
     "text": [
      "\n",
      "Datos de Rendimiento:\n"
     ]
    },
    {
     "data": {
      "text/html": [
       "<div>\n",
       "<style scoped>\n",
       "    .dataframe tbody tr th:only-of-type {\n",
       "        vertical-align: middle;\n",
       "    }\n",
       "\n",
       "    .dataframe tbody tr th {\n",
       "        vertical-align: top;\n",
       "    }\n",
       "\n",
       "    .dataframe thead th {\n",
       "        text-align: right;\n",
       "    }\n",
       "</style>\n",
       "<table border=\"1\" class=\"dataframe\">\n",
       "  <thead>\n",
       "    <tr style=\"text-align: right;\">\n",
       "      <th></th>\n",
       "      <th>CursoAcademico</th>\n",
       "      <th>Centro</th>\n",
       "      <th>PlanEstudio</th>\n",
       "      <th>TasaAprobados</th>\n",
       "      <th>NotaMedia</th>\n",
       "    </tr>\n",
       "  </thead>\n",
       "  <tbody>\n",
       "    <tr>\n",
       "      <th>0</th>\n",
       "      <td>2023/2024</td>\n",
       "      <td>Facultad de Ciencias</td>\n",
       "      <td>Grado en Informática</td>\n",
       "      <td>0.85</td>\n",
       "      <td>7.2</td>\n",
       "    </tr>\n",
       "    <tr>\n",
       "      <th>1</th>\n",
       "      <td>2023/2024</td>\n",
       "      <td>Facultad de Ciencias</td>\n",
       "      <td>Grado en Matemáticas</td>\n",
       "      <td>0.82</td>\n",
       "      <td>7.0</td>\n",
       "    </tr>\n",
       "    <tr>\n",
       "      <th>2</th>\n",
       "      <td>2023/2024</td>\n",
       "      <td>Facultad de Ciencias</td>\n",
       "      <td>Grado en Física</td>\n",
       "      <td>0.80</td>\n",
       "      <td>6.8</td>\n",
       "    </tr>\n",
       "    <tr>\n",
       "      <th>3</th>\n",
       "      <td>2023/2024</td>\n",
       "      <td>Facultad de Letras</td>\n",
       "      <td>Grado en Informática</td>\n",
       "      <td>0.88</td>\n",
       "      <td>7.5</td>\n",
       "    </tr>\n",
       "    <tr>\n",
       "      <th>4</th>\n",
       "      <td>2023/2024</td>\n",
       "      <td>Facultad de Letras</td>\n",
       "      <td>Grado en Matemáticas</td>\n",
       "      <td>0.85</td>\n",
       "      <td>7.3</td>\n",
       "    </tr>\n",
       "    <tr>\n",
       "      <th>5</th>\n",
       "      <td>2023/2024</td>\n",
       "      <td>Facultad de Letras</td>\n",
       "      <td>Grado en Física</td>\n",
       "      <td>0.83</td>\n",
       "      <td>7.1</td>\n",
       "    </tr>\n",
       "    <tr>\n",
       "      <th>6</th>\n",
       "      <td>2022/2023</td>\n",
       "      <td>Facultad de Ciencias</td>\n",
       "      <td>Grado en Historia</td>\n",
       "      <td>0.83</td>\n",
       "      <td>7.0</td>\n",
       "    </tr>\n",
       "    <tr>\n",
       "      <th>7</th>\n",
       "      <td>2022/2023</td>\n",
       "      <td>Facultad de Ciencias</td>\n",
       "      <td>Grado en Filología</td>\n",
       "      <td>0.80</td>\n",
       "      <td>6.8</td>\n",
       "    </tr>\n",
       "    <tr>\n",
       "      <th>8</th>\n",
       "      <td>2022/2023</td>\n",
       "      <td>Facultad de Ciencias</td>\n",
       "      <td>Grado en Filosofía</td>\n",
       "      <td>0.78</td>\n",
       "      <td>6.6</td>\n",
       "    </tr>\n",
       "    <tr>\n",
       "      <th>9</th>\n",
       "      <td>2022/2023</td>\n",
       "      <td>Facultad de Letras</td>\n",
       "      <td>Grado en Historia</td>\n",
       "      <td>0.86</td>\n",
       "      <td>7.4</td>\n",
       "    </tr>\n",
       "    <tr>\n",
       "      <th>10</th>\n",
       "      <td>2022/2023</td>\n",
       "      <td>Facultad de Letras</td>\n",
       "      <td>Grado en Filología</td>\n",
       "      <td>0.84</td>\n",
       "      <td>7.2</td>\n",
       "    </tr>\n",
       "    <tr>\n",
       "      <th>11</th>\n",
       "      <td>2022/2023</td>\n",
       "      <td>Facultad de Letras</td>\n",
       "      <td>Grado en Filosofía</td>\n",
       "      <td>0.82</td>\n",
       "      <td>7.0</td>\n",
       "    </tr>\n",
       "  </tbody>\n",
       "</table>\n",
       "</div>"
      ],
      "text/plain": [
       "   CursoAcademico                Centro           PlanEstudio  TasaAprobados  \\\n",
       "0       2023/2024  Facultad de Ciencias  Grado en Informática           0.85   \n",
       "1       2023/2024  Facultad de Ciencias  Grado en Matemáticas           0.82   \n",
       "2       2023/2024  Facultad de Ciencias       Grado en Física           0.80   \n",
       "3       2023/2024    Facultad de Letras  Grado en Informática           0.88   \n",
       "4       2023/2024    Facultad de Letras  Grado en Matemáticas           0.85   \n",
       "5       2023/2024    Facultad de Letras       Grado en Física           0.83   \n",
       "6       2022/2023  Facultad de Ciencias     Grado en Historia           0.83   \n",
       "7       2022/2023  Facultad de Ciencias    Grado en Filología           0.80   \n",
       "8       2022/2023  Facultad de Ciencias    Grado en Filosofía           0.78   \n",
       "9       2022/2023    Facultad de Letras     Grado en Historia           0.86   \n",
       "10      2022/2023    Facultad de Letras    Grado en Filología           0.84   \n",
       "11      2022/2023    Facultad de Letras    Grado en Filosofía           0.82   \n",
       "\n",
       "    NotaMedia  \n",
       "0         7.2  \n",
       "1         7.0  \n",
       "2         6.8  \n",
       "3         7.5  \n",
       "4         7.3  \n",
       "5         7.1  \n",
       "6         7.0  \n",
       "7         6.8  \n",
       "8         6.6  \n",
       "9         7.4  \n",
       "10        7.2  \n",
       "11        7.0  "
      ]
     },
     "metadata": {},
     "output_type": "display_data"
    }
   ],
   "source": [
    "# Datos de matrículas\n",
    "matriculas_data = {\n",
    "    'CursoAcademico': ['2023/2024'] * 6 + ['2022/2023'] * 6,\n",
    "    'Centro': ['Facultad de Ciencias'] * 3 + ['Facultad de Letras'] * 3 + ['Facultad de Ciencias'] * 3 + ['Facultad de Letras'] * 3,\n",
    "    'PlanEstudio': ['Grado en Informática', 'Grado en Matemáticas', 'Grado en Física'] * 2 + ['Grado en Historia', 'Grado en Filología', 'Grado en Filosofía'] * 2,\n",
    "    'NumeroMatriculados': [120, 95, 85, 80, 75, 70, 110, 90, 80, 75, 70, 65],\n",
    "    'CreditosMatriculados': [7200, 5700, 5100, 4800, 4500, 4200, 6600, 5400, 4800, 4500, 4200, 3900]\n",
    "}\n",
    "\n",
    "# Datos de rendimiento\n",
    "rendimiento_data = {\n",
    "    'CursoAcademico': ['2023/2024'] * 6 + ['2022/2023'] * 6,\n",
    "    'Centro': ['Facultad de Ciencias'] * 3 + ['Facultad de Letras'] * 3 + ['Facultad de Ciencias'] * 3 + ['Facultad de Letras'] * 3,\n",
    "    'PlanEstudio': ['Grado en Informática', 'Grado en Matemáticas', 'Grado en Física'] * 2 + ['Grado en Historia', 'Grado en Filología', 'Grado en Filosofía'] * 2,\n",
    "    'TasaAprobados': [0.85, 0.82, 0.80, 0.88, 0.85, 0.83, 0.83, 0.80, 0.78, 0.86, 0.84, 0.82],\n",
    "    'NotaMedia': [7.2, 7.0, 6.8, 7.5, 7.3, 7.1, 7.0, 6.8, 6.6, 7.4, 7.2, 7.0]\n",
    "}\n",
    "\n",
    "# Crear DataFrames\n",
    "df_matriculas = pd.DataFrame(matriculas_data)\n",
    "df_rendimiento = pd.DataFrame(rendimiento_data)\n",
    "\n",
    "print(\"Datos de Matrículas:\")\n",
    "display(df_matriculas)\n",
    "print(\"\\nDatos de Rendimiento:\")\n",
    "display(df_rendimiento)"
   ]
  },
  {
   "cell_type": "markdown",
   "metadata": {},
   "source": [
    "## 3. Crear Tablas en Atoti\n",
    "\n",
    "Cargamos los datos en tablas de Atoti:"
   ]
  },
  {
   "cell_type": "code",
   "execution_count": 7,
   "metadata": {},
   "outputs": [],
   "source": [
    "# Crear tabla de matrículas\n",
    "matriculas_table = session.read_pandas(\n",
    "    df_matriculas,\n",
    "    table_name=\"Matriculas\",\n",
    "    keys=[\"CursoAcademico\", \"Centro\", \"PlanEstudio\"]\n",
    ")\n",
    "\n",
    "# Crear tabla de rendimiento\n",
    "rendimiento_table = session.read_pandas(\n",
    "    df_rendimiento,\n",
    "    table_name=\"Rendimiento\",\n",
    "    keys=[\"CursoAcademico\", \"Centro\", \"PlanEstudio\"]\n",
    ")"
   ]
  },
  {
   "cell_type": "markdown",
   "metadata": {},
   "source": [
    "## 4. Crear un Cubo Multidimensional\n",
    "\n",
    "Vamos a crear un cubo que combine información de ambas tablas:"
   ]
  },
  {
   "cell_type": "code",
   "execution_count": 18,
   "metadata": {},
   "outputs": [],
   "source": [
    "# Unir las tablas usando una sola condición de igualdad combinada\n",
    "matriculas_table.join(\n",
    "    rendimiento_table,\n",
    "    (matriculas_table[\"CursoAcademico\"] == rendimiento_table[\"CursoAcademico\"]) &\n",
    "    (matriculas_table[\"Centro\"] == rendimiento_table[\"Centro\"]) &\n",
    "    (matriculas_table[\"PlanEstudio\"] == rendimiento_table[\"PlanEstudio\"])\n",
    ")\n",
    "\n",
    "# Crear el cubo con las tablas unidas\n",
    "cube = session.create_cube(matriculas_table)"
   ]
  },
  {
   "cell_type": "markdown",
   "metadata": {},
   "source": [
    "## 5. Explorar la Estructura del Cubo\n",
    "\n",
    "Veamos las jerarquías y medidas disponibles:"
   ]
  },
  {
   "cell_type": "code",
   "execution_count": 19,
   "metadata": {},
   "outputs": [
    {
     "name": "stdout",
     "output_type": "stream",
     "text": [
      "Jerarquías:\n",
      "{('Matriculas', 'Centro'): <atoti.hierarchy.Hierarchy object at 0x0000015FAD1EF710>, ('Matriculas', 'PlanEstudio'): <atoti.hierarchy.Hierarchy object at 0x0000015FAD15AB70>, ('Matriculas', 'CursoAcademico'): <atoti.hierarchy.Hierarchy object at 0x0000015FAD15B9E0>}\n",
      "\n",
      "Medidas:\n",
      "{'NumeroMatriculados.SUM': <atoti.measure.Measure object at 0x0000015FAD1EF590>, 'CreditosMatriculados.SUM': <atoti.measure.Measure object at 0x0000015FAD15BC50>, 'contributors.COUNT': <atoti.measure.Measure object at 0x0000015FAD15B6E0>, 'NumeroMatriculados.MEAN': <atoti.measure.Measure object at 0x0000015FAD159250>, 'update.TIMESTAMP': <atoti.measure.Measure object at 0x0000015FAD15A240>, 'CreditosMatriculados.MEAN': <atoti.measure.Measure object at 0x0000015FAD15BE30>}\n"
     ]
    }
   ],
   "source": [
    "print(\"Jerarquías:\")\n",
    "print(cube.hierarchies)\n",
    "print(\"\\nMedidas:\")\n",
    "print(cube.measures)"
   ]
  },
  {
   "cell_type": "markdown",
   "metadata": {},
   "source": [
    "## 6. Crear Medidas Calculadas\n",
    "\n",
    "Vamos a crear algunas medidas calculadas interesantes:"
   ]
  },
  {
   "cell_type": "code",
   "execution_count": 29,
   "metadata": {},
   "outputs": [
    {
     "name": "stdout",
     "output_type": "stream",
     "text": [
      "Medidas disponibles:\n",
      "{'NumeroMatriculados.SUM': <atoti.measure.Measure object at 0x0000015FAD1F1160>, 'CreditosMatriculados.SUM': <atoti.measure.Measure object at 0x0000015FAD1F0EC0>, 'contributors.COUNT': <atoti.measure.Measure object at 0x0000015FAD1F29C0>, 'NumeroMatriculados.MEAN': <atoti.measure.Measure object at 0x0000015FAD1F3AA0>, 'update.TIMESTAMP': <atoti.measure.Measure object at 0x0000015FAD1F39B0>, 'CreditosMatriculados.MEAN': <atoti.measure.Measure object at 0x0000015FAD1F1D60>, 'Total Estudiantes': <atoti.measure.Measure object at 0x0000015FAD1F3230>}\n"
     ]
    }
   ],
   "source": [
    "# Primero veamos las medidas disponibles\n",
    "print(\"Medidas disponibles:\")\n",
    "print(cube.measures)"
   ]
  },
  {
   "cell_type": "code",
   "execution_count": 30,
   "metadata": {},
   "outputs": [],
   "source": [
    "# Crear medida para el número total de estudiantes\n",
    "cube.measures[\"Total Estudiantes\"] = tt.agg.sum(\n",
    "    cube.measures[\"NumeroMatriculados.SUM\"],\n",
    "    scope=tt.OriginScope(levels=[cube.levels[(\"Matriculas\", \"CursoAcademico\", \"CursoAcademico\")]])\n",
    ")\n",
    "\n",
    "# Crear medida para la media de créditos matriculados\n",
    "cube.measures[\"Media Creditos Matriculados\"] = tt.agg.mean(\n",
    "    cube.measures[\"CreditosMatriculados.SUM\"],\n",
    "    scope=tt.OriginScope(levels=[cube.levels[(\"Matriculas\", \"CursoAcademico\", \"CursoAcademico\")]])\n",
    ")\n",
    "\n",
    "# Crear medida para el total de créditos\n",
    "cube.measures[\"Total Creditos\"] = tt.agg.sum(\n",
    "    cube.measures[\"CreditosMatriculados.SUM\"],\n",
    "    scope=tt.OriginScope(levels=[cube.levels[(\"Matriculas\", \"CursoAcademico\", \"CursoAcademico\")]])\n",
    ")"
   ]
  },
  {
   "cell_type": "markdown",
   "metadata": {},
   "source": [
    "## 7. Realizar Consultas Multidimensionales\n",
    "\n",
    "Vamos a realizar algunas consultas que muestren el poder del análisis multidimensional:"
   ]
  },
  {
   "cell_type": "code",
   "execution_count": 31,
   "metadata": {},
   "outputs": [
    {
     "name": "stdout",
     "output_type": "stream",
     "text": [
      "\n",
      "7. Realizar consultas multidimensionales\n",
      "\n",
      "Número de estudiantes matriculados por centro:\n",
      "                     Total Estudiantes\n",
      "Centro                                \n",
      "Facultad de Ciencias               580\n",
      "Facultad de Letras                 435\n",
      "\n",
      "Número de estudiantes y créditos por centro y plan de estudios:\n",
      "                                          Total Estudiantes Total Creditos\n",
      "Centro               PlanEstudio                                          \n",
      "Facultad de Ciencias Grado en Filología                  90          5,400\n",
      "                     Grado en Filosofía                  80          4,800\n",
      "                     Grado en Física                     85          5,100\n",
      "                     Grado en Historia                  110          6,600\n",
      "                     Grado en Informática               120          7,200\n",
      "                     Grado en Matemáticas                95          5,700\n",
      "Facultad de Letras   Grado en Filología                  70          4,200\n",
      "                     Grado en Filosofía                  65          3,900\n",
      "                     Grado en Física                     70          4,200\n",
      "                     Grado en Historia                   75          4,500\n",
      "                     Grado en Informática                80          4,800\n",
      "                     Grado en Matemáticas                75          4,500\n",
      "\n",
      "Media de créditos matriculados por centro:\n",
      "                     Media Creditos Matriculados\n",
      "Centro                                          \n",
      "Facultad de Ciencias                   17,400.00\n",
      "Facultad de Letras                     13,050.00\n"
     ]
    }
   ],
   "source": [
    "# Realizar consultas multidimensionales\n",
    "print(\"\\n7. Realizar consultas multidimensionales\")\n",
    "print(\"\\nNúmero de estudiantes matriculados por centro:\")\n",
    "print(\n",
    "    cube.query(\n",
    "        cube.measures[\"Total Estudiantes\"],\n",
    "        levels=[cube.levels[(\"Matriculas\", \"Centro\", \"Centro\")]]\n",
    "    )\n",
    ")\n",
    "\n",
    "print(\"\\nNúmero de estudiantes y créditos por centro y plan de estudios:\")\n",
    "print(\n",
    "    cube.query(\n",
    "        cube.measures[\"Total Estudiantes\"],\n",
    "        cube.measures[\"Total Creditos\"],\n",
    "        levels=[\n",
    "            cube.levels[(\"Matriculas\", \"Centro\", \"Centro\")],\n",
    "            cube.levels[(\"Matriculas\", \"PlanEstudio\", \"PlanEstudio\")]\n",
    "        ]\n",
    "    )\n",
    ")\n",
    "\n",
    "print(\"\\nMedia de créditos matriculados por centro:\")\n",
    "print(\n",
    "    cube.query(\n",
    "        cube.measures[\"Media Creditos Matriculados\"],\n",
    "        levels=[cube.levels[(\"Matriculas\", \"Centro\", \"Centro\")]]\n",
    "    )\n",
    ")"
   ]
  },
  {
   "cell_type": "markdown",
   "metadata": {},
   "source": [
    "## 8. Crear un Dashboard Interactivo\n",
    "\n",
    "Vamos a crear un dashboard interactivo para explorar los datos:"
   ]
  },
  {
   "cell_type": "code",
   "execution_count": null,
   "metadata": {},
   "outputs": [
    {
     "data": {
      "application/vnd.atoti.widget.v0+json": {
       "sessionId": "1746634709_606152",
       "sessionUrl": "http://localhost:53426",
       "widgetCreationCode": "session.widget"
      },
      "text/plain": [
       "Open the notebook in JupyterLab with the Atoti JupyterLab extension enabled to build this widget."
      ]
     },
     "metadata": {},
     "output_type": "display_data"
    }
   ],
   "source": [
    "session.widget"
   ]
  },
  {
   "cell_type": "markdown",
   "metadata": {},
   "source": [
    "## Ejercicios Prácticos\n",
    "\n",
    "1. Crea una nueva medida calculada que muestre la relación entre créditos matriculados y número de estudiantes\n",
    "2. Realiza una consulta que compare el rendimiento entre diferentes planes de estudio\n",
    "3. Crea un dashboard que muestre la evolución temporal de las tasas de aprobados\n",
    "4. Experimenta con diferentes combinaciones de jerarquías y medidas en el widget interactivo"
   ]
  }
 ],
 "metadata": {
  "kernelspec": {
   "display_name": "Python 3",
   "language": "python",
   "name": "python3"
  },
  "language_info": {
   "codemirror_mode": {
    "name": "ipython",
    "version": 3
   },
   "file_extension": ".py",
   "mimetype": "text/x-python",
   "name": "python",
   "nbconvert_exporter": "python",
   "pygments_lexer": "ipython3",
   "version": "3.8.0"
  }
 },
 "nbformat": 4,
 "nbformat_minor": 4
}
